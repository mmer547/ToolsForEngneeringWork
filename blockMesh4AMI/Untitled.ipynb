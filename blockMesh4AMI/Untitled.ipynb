{
 "cells": [
  {
   "cell_type": "code",
   "execution_count": 1,
   "metadata": {},
   "outputs": [],
   "source": [
    "from math import sqrt\n",
    "import numpy as np\n",
    "\n",
    "import matplotlib\n",
    "import matplotlib.pyplot as plt"
   ]
  },
  {
   "cell_type": "code",
   "execution_count": 2,
   "metadata": {},
   "outputs": [],
   "source": [
    "ri = 1\n",
    "ro = 3\n",
    "\n",
    "L = [0, 0.5, 2, 5]"
   ]
  },
  {
   "cell_type": "code",
   "execution_count": 3,
   "metadata": {},
   "outputs": [],
   "source": [
    "sita = [45, 135, 225, 315]"
   ]
  },
  {
   "cell_type": "code",
   "execution_count": 4,
   "metadata": {},
   "outputs": [],
   "source": [
    "with open('blockMeshDict', 'w') as f:\n",
    "    f.write('''/*--------------------------------*- C++ -*----------------------------------*\n",
    "| =========                |                                                 |\n",
    "| \\\\      /  F ield         | OpenFOAM: The Open Source CFD Toolbox           |\n",
    "|  \\\\    /   O peration     | Version:  v1806                                 |\n",
    "|   \\\\  /    A nd           | Web:      www.OpenFOAM.com                      |\n",
    "|    \\\\/     M anipulation  |                                                 |\n",
    "\\*---------------------------------------------------------------------------*/\n",
    "FoamFile\n",
    "{\n",
    "    version     2.0;\n",
    "    format      ascii;\n",
    "    class       dictionary;\n",
    "    object      blockMeshDict;\n",
    "}\n",
    "// * * * * * * * * * * * * * * * * * * * * * * * * * * * * * * * * * * * * * //\n",
    "\n",
    "scale   1;\n",
    "\n",
    "''')"
   ]
  },
  {
   "cell_type": "code",
   "execution_count": 5,
   "metadata": {
    "scrolled": true
   },
   "outputs": [
    {
     "data": {
      "text/plain": [
       "array([[ 0.        , -0.33333333, -0.33333333,  0.        ],\n",
       "       [ 1.        ,  0.33333333, -0.33333333,  0.        ],\n",
       "       [ 2.        ,  0.33333333,  0.33333333,  0.        ],\n",
       "       [ 3.        , -0.33333333,  0.33333333,  0.        ],\n",
       "       [ 4.        , -0.70710678, -0.70710678,  0.        ],\n",
       "       [ 5.        ,  0.70710678, -0.70710678,  0.        ],\n",
       "       [ 6.        ,  0.70710678,  0.70710678,  0.        ],\n",
       "       [ 7.        , -0.70710678,  0.70710678,  0.        ],\n",
       "       [ 8.        , -2.12132034, -2.12132034,  0.        ],\n",
       "       [ 9.        ,  2.12132034, -2.12132034,  0.        ],\n",
       "       [10.        ,  2.12132034,  2.12132034,  0.        ],\n",
       "       [11.        , -2.12132034,  2.12132034,  0.        ],\n",
       "       [12.        , -0.33333333, -0.33333333,  0.5       ],\n",
       "       [13.        ,  0.33333333, -0.33333333,  0.5       ],\n",
       "       [14.        ,  0.33333333,  0.33333333,  0.5       ],\n",
       "       [15.        , -0.33333333,  0.33333333,  0.5       ],\n",
       "       [16.        , -0.70710678, -0.70710678,  0.5       ],\n",
       "       [17.        ,  0.70710678, -0.70710678,  0.5       ],\n",
       "       [18.        ,  0.70710678,  0.70710678,  0.5       ],\n",
       "       [19.        , -0.70710678,  0.70710678,  0.5       ],\n",
       "       [20.        , -2.12132034, -2.12132034,  0.5       ],\n",
       "       [21.        ,  2.12132034, -2.12132034,  0.5       ],\n",
       "       [22.        ,  2.12132034,  2.12132034,  0.5       ],\n",
       "       [23.        , -2.12132034,  2.12132034,  0.5       ],\n",
       "       [24.        , -0.33333333, -0.33333333,  2.        ],\n",
       "       [25.        ,  0.33333333, -0.33333333,  2.        ],\n",
       "       [26.        ,  0.33333333,  0.33333333,  2.        ],\n",
       "       [27.        , -0.33333333,  0.33333333,  2.        ],\n",
       "       [28.        , -0.70710678, -0.70710678,  2.        ],\n",
       "       [29.        ,  0.70710678, -0.70710678,  2.        ],\n",
       "       [30.        ,  0.70710678,  0.70710678,  2.        ],\n",
       "       [31.        , -0.70710678,  0.70710678,  2.        ],\n",
       "       [32.        , -2.12132034, -2.12132034,  2.        ],\n",
       "       [33.        ,  2.12132034, -2.12132034,  2.        ],\n",
       "       [34.        ,  2.12132034,  2.12132034,  2.        ],\n",
       "       [35.        , -2.12132034,  2.12132034,  2.        ],\n",
       "       [36.        , -0.33333333, -0.33333333,  5.        ],\n",
       "       [37.        ,  0.33333333, -0.33333333,  5.        ],\n",
       "       [38.        ,  0.33333333,  0.33333333,  5.        ],\n",
       "       [39.        , -0.33333333,  0.33333333,  5.        ],\n",
       "       [40.        , -0.70710678, -0.70710678,  5.        ],\n",
       "       [41.        ,  0.70710678, -0.70710678,  5.        ],\n",
       "       [42.        ,  0.70710678,  0.70710678,  5.        ],\n",
       "       [43.        , -0.70710678,  0.70710678,  5.        ],\n",
       "       [44.        , -2.12132034, -2.12132034,  5.        ],\n",
       "       [45.        ,  2.12132034, -2.12132034,  5.        ],\n",
       "       [46.        ,  2.12132034,  2.12132034,  5.        ],\n",
       "       [47.        , -2.12132034,  2.12132034,  5.        ]])"
      ]
     },
     "execution_count": 5,
     "metadata": {},
     "output_type": "execute_result"
    }
   ],
   "source": [
    "arr = []\n",
    "for i in range(4):\n",
    "    for j in range(12):\n",
    "        #print(j + 12 * i)\n",
    "        if j == 0:\n",
    "            # buf = [no, x, y, z]\n",
    "            buf = [j+12*i, -1*ri/3, -1*ri/3, L[i]]\n",
    "        elif j == 1:\n",
    "            buf = [j+12*i, ri/3, -1*ri/3, L[i]]\n",
    "        elif j == 2:\n",
    "            buf = [j+12*i, ri/3, ri/3, L[i]]\n",
    "        elif j == 3:\n",
    "            buf = [j+12*i, -1*ri/3, ri/3, L[i]]\n",
    "        elif j == 4:\n",
    "            buf = [j+12*i, -1*ri/sqrt(2), -1*ri/sqrt(2), L[i]]\n",
    "        elif j == 5:\n",
    "            buf = [j+12*i, ri/sqrt(2), -1*ri/sqrt(2), L[i]]\n",
    "        elif j == 6:\n",
    "            buf = [j+12*i, ri/sqrt(2), ri/sqrt(2), L[i]]\n",
    "        elif j == 7:\n",
    "            buf = [j+12*i, -1*ri/sqrt(2), ri/sqrt(2), L[i]]\n",
    "        elif j == 8:\n",
    "            buf = [j+12*i, -1*ro/sqrt(2), -1*ro/sqrt(2), L[i]]\n",
    "        elif j == 9:\n",
    "            buf = [j+12*i, ro/sqrt(2), -1*ro/sqrt(2), L[i]]\n",
    "        elif j == 10:\n",
    "            buf = [j+12*i, ro/sqrt(2), ro/sqrt(2), L[i]]\n",
    "        elif j == 11:\n",
    "            buf = [j+12*i, -1*ro/sqrt(2), ro/sqrt(2), L[i]]\n",
    "        arr.append(buf)\n",
    "narr = np.array(arr)\n",
    "narr"
   ]
  },
  {
   "cell_type": "code",
   "execution_count": 6,
   "metadata": {
    "scrolled": true
   },
   "outputs": [
    {
     "data": {
      "image/png": "[encoded data removed]",
      "text/plain": [
       "<Figure size 432x288 with 1 Axes>"
      ]
     },
     "metadata": {},
     "output_type": "display_data"
    }
   ],
   "source": [
    "fig, ax = plt.subplots()\n",
    "for k in narr:\n",
    "    ax.plot(k[1],k[2],'o')\n",
    "plt.show()"
   ]
  },
  {
   "cell_type": "code",
   "execution_count": 7,
   "metadata": {},
   "outputs": [],
   "source": [
    "with open('blockMeshDict', 'a') as f:\n",
    "    f.write('''vertices\\n(\\n''')\n",
    "    for ii in narr:\n",
    "        buf = '    ({0} {1} {2})\\n'.format(ii[1],ii[2],ii[3])\n",
    "        f.write(buf)\n",
    "    f.write(');\\n\\n')"
   ]
  },
  {
   "cell_type": "code",
   "execution_count": 8,
   "metadata": {
    "scrolled": true
   },
   "outputs": [
    {
     "data": {
      "text/plain": [
       "[[0, 1, 2, 3, 12, 13, 14, 15],\n",
       " [4, 5, 1, 0, 16, 17, 13, 12],\n",
       " [1, 5, 6, 2, 13, 17, 18, 14],\n",
       " [3, 2, 6, 7, 15, 14, 18, 19],\n",
       " [4, 0, 3, 7, 16, 12, 15, 19],\n",
       " [8, 9, 5, 4, 20, 21, 17, 16],\n",
       " [5, 9, 10, 6, 17, 21, 22, 18],\n",
       " [7, 6, 10, 11, 19, 18, 22, 23],\n",
       " [8, 4, 7, 11, 20, 16, 19, 23]]"
      ]
     },
     "execution_count": 8,
     "metadata": {},
     "output_type": "execute_result"
    }
   ],
   "source": [
    "f = lambda x : x + 12\n",
    "barr_t = [\n",
    "    [0,1,2,3],\n",
    "    [4,5,1,0],\n",
    "    [1,5,6,2],\n",
    "    [3,2,6,7],\n",
    "    [4,0,3,7],\n",
    "    [8,9,5,4],\n",
    "    [5,9,10,6],\n",
    "    [7,6,10,11],\n",
    "    [8,4,7,11]\n",
    "]\n",
    "\n",
    "barr = []\n",
    "for i in barr_t:\n",
    "    barr.append(i+list(map(f,i)))\n",
    "barr"
   ]
  },
  {
   "cell_type": "code",
   "execution_count": 9,
   "metadata": {},
   "outputs": [],
   "source": [
    "with open('blockMeshDict', 'a') as f:\n",
    "    f.write('blocks\\n(\\n')\n",
    "    for i in range(3):\n",
    "        for j in barr:\n",
    "            \n",
    "            f.write('hex ({0} {1} {2} {3} {4} {5} {6} {7})\\n'.format(j[0]+i*12,j[1]+i*12,j[2]+i*12,j[3]+i*12,j[4]+i*12,j[5]+i*12,j[6]+i*12,j[7]+i*12))\n",
    "            f.write('(10 10 10)\\n')\n",
    "            f.write('simpleGrading (1 1 1)\\n')\n",
    "    f.write(');\\n\\n')"
   ]
  },
  {
   "cell_type": "code",
   "execution_count": 10,
   "metadata": {},
   "outputs": [],
   "source": [
    "earr = [\n",
    "    [4,5,0,-1*ri],\n",
    "    [5,6,ri,0],\n",
    "    [6,7,0,ri],\n",
    "    [7,4,-1*ri,0],\n",
    "    [8,9,0,-1*ro],\n",
    "    [9,10,ro,0],\n",
    "    [10,11,0,ro],\n",
    "    [11,8,-1*ro,0]\n",
    "]"
   ]
  },
  {
   "cell_type": "code",
   "execution_count": 11,
   "metadata": {},
   "outputs": [],
   "source": [
    "with open('blockMeshDict', 'a') as f:\n",
    "    f.write('''edges\\n(\\n''')\n",
    "    for jj in range(4):\n",
    "        for ii in earr:\n",
    "            buf = '    arc {0} {1} ({2:f} {3:f} {4:f})\\n'.format(ii[0]+jj*12,ii[1]+jj*12,ii[2],ii[3],L[jj])\n",
    "            f.write(buf)\n",
    "    f.write(');\\n\\n')"
   ]
  },
  {
   "cell_type": "code",
   "execution_count": 12,
   "metadata": {},
   "outputs": [],
   "source": [
    "with open('blockMeshDict', 'a') as f:\n",
    "\n",
    "    f.write('boundary\\n(\\n')\n",
    "    f.write(');\\n')"
   ]
  },
  {
   "cell_type": "code",
   "execution_count": null,
   "metadata": {},
   "outputs": [],
   "source": []
  }
 ],
 "metadata": {
  "kernelspec": {
   "display_name": "Python 3",
   "language": "python",
   "name": "python3"
  },
  "language_info": {
   "codemirror_mode": {
    "name": "ipython",
    "version": 3
   },
   "file_extension": ".py",
   "mimetype": "text/x-python",
   "name": "python",
   "nbconvert_exporter": "python",
   "pygments_lexer": "ipython3",
   "version": "3.6.5"
  }
 },
 "nbformat": 4,
 "nbformat_minor": 2
}
